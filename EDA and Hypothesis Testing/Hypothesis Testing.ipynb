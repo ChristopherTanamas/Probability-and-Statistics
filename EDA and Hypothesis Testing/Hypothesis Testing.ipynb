{
  "cells": [
    {
      "cell_type": "markdown",
      "id": "4bc6a088",
      "metadata": {
        "id": "4bc6a088"
      },
      "source": [
        "# MATH1042 Uji Hipotesis\n",
        "\n",
        "<b>Kelompok 08</b>\n",
        "<ol>\n",
        "<li>Christopher Nathaniel Tanamas // 222200153</li>\n",
        "<li>Grace Calista Lim // 222102176</li>\n",
        "<li>Jemima Alithia Sigar // 222101393</li>\n",
        "<li>Samuel Revaldo Tjahyadi // 222102304</li>\n",
        "</ol>"
      ]
    },
    {
      "cell_type": "markdown",
      "id": "7fb7b405",
      "metadata": {},
      "source": [
        "# Importing Libraries"
      ]
    },
    {
      "cell_type": "code",
      "execution_count": 74,
      "id": "542d39e8",
      "metadata": {
        "id": "542d39e8"
      },
      "outputs": [],
      "source": [
        "import numpy as np\n",
        "import pandas as pd\n",
        "from matplotlib import pyplot as plt\n",
        "import seaborn as sns\n",
        "from scipy import stats\n",
        "from statsmodels.stats.weightstats import ztest"
      ]
    },
    {
      "cell_type": "markdown",
      "id": "L9StHabDGrcV",
      "metadata": {
        "id": "L9StHabDGrcV"
      },
      "source": [
        "# Menampilkan DataFrame"
      ]
    },
    {
      "cell_type": "code",
      "execution_count": 75,
      "id": "1b4da052",
      "metadata": {
        "colab": {
          "base_uri": "https://localhost:8080/",
          "height": 689
        },
        "id": "1b4da052",
        "outputId": "bd63e5f8-8597-4212-da67-cf07bf01de7f"
      },
      "outputs": [
        {
          "data": {
            "text/html": [
              "<div>\n",
              "<style scoped>\n",
              "    .dataframe tbody tr th:only-of-type {\n",
              "        vertical-align: middle;\n",
              "    }\n",
              "\n",
              "    .dataframe tbody tr th {\n",
              "        vertical-align: top;\n",
              "    }\n",
              "\n",
              "    .dataframe thead th {\n",
              "        text-align: right;\n",
              "    }\n",
              "</style>\n",
              "<table border=\"1\" class=\"dataframe\">\n",
              "  <thead>\n",
              "    <tr style=\"text-align: right;\">\n",
              "      <th></th>\n",
              "      <th>Nama</th>\n",
              "      <th>Gender</th>\n",
              "      <th>Mulai</th>\n",
              "      <th>Selesai</th>\n",
              "      <th>Durasi</th>\n",
              "    </tr>\n",
              "  </thead>\n",
              "  <tbody>\n",
              "    <tr>\n",
              "      <th>0</th>\n",
              "      <td>Andrea</td>\n",
              "      <td>P</td>\n",
              "      <td>12:10:00 PM</td>\n",
              "      <td>12:20:00 PM</td>\n",
              "      <td>0:10:00</td>\n",
              "    </tr>\n",
              "    <tr>\n",
              "      <th>1</th>\n",
              "      <td>Karyn</td>\n",
              "      <td>P</td>\n",
              "      <td>12:10:00 PM</td>\n",
              "      <td>12:20:00 PM</td>\n",
              "      <td>0:10:00</td>\n",
              "    </tr>\n",
              "    <tr>\n",
              "      <th>2</th>\n",
              "      <td>Felicia</td>\n",
              "      <td>P</td>\n",
              "      <td>12:10:00 PM</td>\n",
              "      <td>12:20:00 PM</td>\n",
              "      <td>0:10:00</td>\n",
              "    </tr>\n",
              "    <tr>\n",
              "      <th>3</th>\n",
              "      <td>Ionna</td>\n",
              "      <td>P</td>\n",
              "      <td>12:10:00 PM</td>\n",
              "      <td>12:20:00 PM</td>\n",
              "      <td>0:10:00</td>\n",
              "    </tr>\n",
              "    <tr>\n",
              "      <th>4</th>\n",
              "      <td>Fredrik</td>\n",
              "      <td>L</td>\n",
              "      <td>12:10:00 PM</td>\n",
              "      <td>12:24:00 PM</td>\n",
              "      <td>0:14:00</td>\n",
              "    </tr>\n",
              "    <tr>\n",
              "      <th>5</th>\n",
              "      <td>Kenji</td>\n",
              "      <td>L</td>\n",
              "      <td>12:10:00 PM</td>\n",
              "      <td>12:24:00 PM</td>\n",
              "      <td>0:14:00</td>\n",
              "    </tr>\n",
              "    <tr>\n",
              "      <th>6</th>\n",
              "      <td>Anna</td>\n",
              "      <td>P</td>\n",
              "      <td>12:19:00 PM</td>\n",
              "      <td>12:28:00 PM</td>\n",
              "      <td>0:09:00</td>\n",
              "    </tr>\n",
              "    <tr>\n",
              "      <th>7</th>\n",
              "      <td>Louis H</td>\n",
              "      <td>L</td>\n",
              "      <td>12:19:00 PM</td>\n",
              "      <td>12:27:00 PM</td>\n",
              "      <td>0:08:00</td>\n",
              "    </tr>\n",
              "    <tr>\n",
              "      <th>8</th>\n",
              "      <td>Gerwin</td>\n",
              "      <td>L</td>\n",
              "      <td>12:20:00 PM</td>\n",
              "      <td>12:26:00 PM</td>\n",
              "      <td>0:06:00</td>\n",
              "    </tr>\n",
              "    <tr>\n",
              "      <th>9</th>\n",
              "      <td>Palti</td>\n",
              "      <td>L</td>\n",
              "      <td>12:20:00 PM</td>\n",
              "      <td>12:27:00 PM</td>\n",
              "      <td>0:07:00</td>\n",
              "    </tr>\n",
              "  </tbody>\n",
              "</table>\n",
              "</div>"
            ],
            "text/plain": [
              "      Nama Gender        Mulai      Selesai   Durasi\n",
              "0   Andrea      P  12:10:00 PM  12:20:00 PM  0:10:00\n",
              "1    Karyn      P  12:10:00 PM  12:20:00 PM  0:10:00\n",
              "2  Felicia      P  12:10:00 PM  12:20:00 PM  0:10:00\n",
              "3    Ionna      P  12:10:00 PM  12:20:00 PM  0:10:00\n",
              "4  Fredrik      L  12:10:00 PM  12:24:00 PM  0:14:00\n",
              "5    Kenji      L  12:10:00 PM  12:24:00 PM  0:14:00\n",
              "6     Anna      P  12:19:00 PM  12:28:00 PM  0:09:00\n",
              "7  Louis H      L  12:19:00 PM  12:27:00 PM  0:08:00\n",
              "8   Gerwin      L  12:20:00 PM  12:26:00 PM  0:06:00\n",
              "9    Palti      L  12:20:00 PM  12:27:00 PM  0:07:00"
            ]
          },
          "metadata": {},
          "output_type": "display_data"
        },
        {
          "data": {
            "text/html": [
              "<div>\n",
              "<style scoped>\n",
              "    .dataframe tbody tr th:only-of-type {\n",
              "        vertical-align: middle;\n",
              "    }\n",
              "\n",
              "    .dataframe tbody tr th {\n",
              "        vertical-align: top;\n",
              "    }\n",
              "\n",
              "    .dataframe thead th {\n",
              "        text-align: right;\n",
              "    }\n",
              "</style>\n",
              "<table border=\"1\" class=\"dataframe\">\n",
              "  <thead>\n",
              "    <tr style=\"text-align: right;\">\n",
              "      <th></th>\n",
              "      <th>Nama</th>\n",
              "      <th>Gender</th>\n",
              "      <th>Mulai</th>\n",
              "      <th>Selesai</th>\n",
              "      <th>Durasi</th>\n",
              "    </tr>\n",
              "  </thead>\n",
              "  <tbody>\n",
              "    <tr>\n",
              "      <th>0</th>\n",
              "      <td>Christopher</td>\n",
              "      <td>L</td>\n",
              "      <td>5:35:00 PM</td>\n",
              "      <td>5:51:00 PM</td>\n",
              "      <td>0:16:00</td>\n",
              "    </tr>\n",
              "    <tr>\n",
              "      <th>1</th>\n",
              "      <td>Graceela</td>\n",
              "      <td>P</td>\n",
              "      <td>5:35:00 PM</td>\n",
              "      <td>5:55:00 PM</td>\n",
              "      <td>0:20:00</td>\n",
              "    </tr>\n",
              "    <tr>\n",
              "      <th>2</th>\n",
              "      <td>Rendi</td>\n",
              "      <td>L</td>\n",
              "      <td>5:33:00 PM</td>\n",
              "      <td>5:47:00 PM</td>\n",
              "      <td>0:14:00</td>\n",
              "    </tr>\n",
              "    <tr>\n",
              "      <th>3</th>\n",
              "      <td>Xander</td>\n",
              "      <td>L</td>\n",
              "      <td>5:35:00 PM</td>\n",
              "      <td>5:47:00 PM</td>\n",
              "      <td>0:12:00</td>\n",
              "    </tr>\n",
              "    <tr>\n",
              "      <th>4</th>\n",
              "      <td>Reuben</td>\n",
              "      <td>L</td>\n",
              "      <td>5:35:00 PM</td>\n",
              "      <td>5:50:00 PM</td>\n",
              "      <td>0:15:00</td>\n",
              "    </tr>\n",
              "    <tr>\n",
              "      <th>5</th>\n",
              "      <td>Hizkia</td>\n",
              "      <td>L</td>\n",
              "      <td>5:36:00 PM</td>\n",
              "      <td>5:48:00 PM</td>\n",
              "      <td>0:12:00</td>\n",
              "    </tr>\n",
              "    <tr>\n",
              "      <th>6</th>\n",
              "      <td>Giovanny</td>\n",
              "      <td>P</td>\n",
              "      <td>5:51:00 PM</td>\n",
              "      <td>6:12:00 PM</td>\n",
              "      <td>0:21:00</td>\n",
              "    </tr>\n",
              "    <tr>\n",
              "      <th>7</th>\n",
              "      <td>Wesley</td>\n",
              "      <td>L</td>\n",
              "      <td>5:51:00 PM</td>\n",
              "      <td>6:04:00 PM</td>\n",
              "      <td>0:13:00</td>\n",
              "    </tr>\n",
              "    <tr>\n",
              "      <th>8</th>\n",
              "      <td>Clarissa</td>\n",
              "      <td>P</td>\n",
              "      <td>5:35:00 PM</td>\n",
              "      <td>5:49:00 PM</td>\n",
              "      <td>0:14:00</td>\n",
              "    </tr>\n",
              "    <tr>\n",
              "      <th>9</th>\n",
              "      <td>Theophorus</td>\n",
              "      <td>L</td>\n",
              "      <td>5:56:00 PM</td>\n",
              "      <td>6:05:00 PM</td>\n",
              "      <td>0:09:00</td>\n",
              "    </tr>\n",
              "  </tbody>\n",
              "</table>\n",
              "</div>"
            ],
            "text/plain": [
              "          Nama Gender       Mulai     Selesai   Durasi\n",
              "0  Christopher      L  5:35:00 PM  5:51:00 PM  0:16:00\n",
              "1     Graceela      P  5:35:00 PM  5:55:00 PM  0:20:00\n",
              "2        Rendi      L  5:33:00 PM  5:47:00 PM  0:14:00\n",
              "3       Xander      L  5:35:00 PM  5:47:00 PM  0:12:00\n",
              "4       Reuben      L  5:35:00 PM  5:50:00 PM  0:15:00\n",
              "5       Hizkia      L  5:36:00 PM  5:48:00 PM  0:12:00\n",
              "6     Giovanny      P  5:51:00 PM  6:12:00 PM  0:21:00\n",
              "7       Wesley      L  5:51:00 PM  6:04:00 PM  0:13:00\n",
              "8     Clarissa      P  5:35:00 PM  5:49:00 PM  0:14:00\n",
              "9   Theophorus      L  5:56:00 PM  6:05:00 PM  0:09:00"
            ]
          },
          "metadata": {},
          "output_type": "display_data"
        }
      ],
      "source": [
        "# simpan data sampel dalam suatu list\n",
        "df_siang = pd.read_csv(\"Waktu_Makan_DH-Siang.csv\")\n",
        "df_siang = df_siang.dropna()\n",
        "display(df_siang.head(10))\n",
        "\n",
        "df_malam = pd.read_csv(\"Waktu_Makan_DH-Malam.csv\")\n",
        "df_malam = df_malam.dropna()\n",
        "display (df_malam.head(10))"
      ]
    },
    {
      "cell_type": "code",
      "execution_count": 76,
      "id": "ff9d5005",
      "metadata": {},
      "outputs": [
        {
          "data": {
            "text/html": [
              "<div>\n",
              "<style scoped>\n",
              "    .dataframe tbody tr th:only-of-type {\n",
              "        vertical-align: middle;\n",
              "    }\n",
              "\n",
              "    .dataframe tbody tr th {\n",
              "        vertical-align: top;\n",
              "    }\n",
              "\n",
              "    .dataframe thead th {\n",
              "        text-align: right;\n",
              "    }\n",
              "</style>\n",
              "<table border=\"1\" class=\"dataframe\">\n",
              "  <thead>\n",
              "    <tr style=\"text-align: right;\">\n",
              "      <th></th>\n",
              "      <th>Nama</th>\n",
              "      <th>Gender</th>\n",
              "      <th>Mulai</th>\n",
              "      <th>Selesai</th>\n",
              "      <th>Durasi</th>\n",
              "    </tr>\n",
              "  </thead>\n",
              "  <tbody>\n",
              "    <tr>\n",
              "      <th>0</th>\n",
              "      <td>Andrea</td>\n",
              "      <td>P</td>\n",
              "      <td>12:10:00 PM</td>\n",
              "      <td>12:20:00 PM</td>\n",
              "      <td>0:10:00</td>\n",
              "    </tr>\n",
              "    <tr>\n",
              "      <th>1</th>\n",
              "      <td>Karyn</td>\n",
              "      <td>P</td>\n",
              "      <td>12:10:00 PM</td>\n",
              "      <td>12:20:00 PM</td>\n",
              "      <td>0:10:00</td>\n",
              "    </tr>\n",
              "    <tr>\n",
              "      <th>2</th>\n",
              "      <td>Felicia</td>\n",
              "      <td>P</td>\n",
              "      <td>12:10:00 PM</td>\n",
              "      <td>12:20:00 PM</td>\n",
              "      <td>0:10:00</td>\n",
              "    </tr>\n",
              "    <tr>\n",
              "      <th>3</th>\n",
              "      <td>Ionna</td>\n",
              "      <td>P</td>\n",
              "      <td>12:10:00 PM</td>\n",
              "      <td>12:20:00 PM</td>\n",
              "      <td>0:10:00</td>\n",
              "    </tr>\n",
              "    <tr>\n",
              "      <th>4</th>\n",
              "      <td>Fredrik</td>\n",
              "      <td>L</td>\n",
              "      <td>12:10:00 PM</td>\n",
              "      <td>12:24:00 PM</td>\n",
              "      <td>0:14:00</td>\n",
              "    </tr>\n",
              "    <tr>\n",
              "      <th>...</th>\n",
              "      <td>...</td>\n",
              "      <td>...</td>\n",
              "      <td>...</td>\n",
              "      <td>...</td>\n",
              "      <td>...</td>\n",
              "    </tr>\n",
              "    <tr>\n",
              "      <th>96</th>\n",
              "      <td>Laurin</td>\n",
              "      <td>P</td>\n",
              "      <td>5:34:00 PM</td>\n",
              "      <td>5:52:00 PM</td>\n",
              "      <td>0:18:00</td>\n",
              "    </tr>\n",
              "    <tr>\n",
              "      <th>97</th>\n",
              "      <td>Gilbert G</td>\n",
              "      <td>L</td>\n",
              "      <td>5:30:00 PM</td>\n",
              "      <td>5:44:00 PM</td>\n",
              "      <td>0:14:00</td>\n",
              "    </tr>\n",
              "    <tr>\n",
              "      <th>98</th>\n",
              "      <td>Niel</td>\n",
              "      <td>L</td>\n",
              "      <td>5:45:00 PM</td>\n",
              "      <td>6:00:00 PM</td>\n",
              "      <td>0:15:00</td>\n",
              "    </tr>\n",
              "    <tr>\n",
              "      <th>99</th>\n",
              "      <td>Shem</td>\n",
              "      <td>L</td>\n",
              "      <td>5:45:00 PM</td>\n",
              "      <td>6:00:00 PM</td>\n",
              "      <td>0:15:00</td>\n",
              "    </tr>\n",
              "    <tr>\n",
              "      <th>100</th>\n",
              "      <td>Renata K</td>\n",
              "      <td>P</td>\n",
              "      <td>5:31:00 PM</td>\n",
              "      <td>5:51:00 PM</td>\n",
              "      <td>0:20:00</td>\n",
              "    </tr>\n",
              "  </tbody>\n",
              "</table>\n",
              "<p>101 rows × 5 columns</p>\n",
              "</div>"
            ],
            "text/plain": [
              "          Nama Gender        Mulai      Selesai   Durasi\n",
              "0       Andrea      P  12:10:00 PM  12:20:00 PM  0:10:00\n",
              "1        Karyn      P  12:10:00 PM  12:20:00 PM  0:10:00\n",
              "2      Felicia      P  12:10:00 PM  12:20:00 PM  0:10:00\n",
              "3        Ionna      P  12:10:00 PM  12:20:00 PM  0:10:00\n",
              "4      Fredrik      L  12:10:00 PM  12:24:00 PM  0:14:00\n",
              "..         ...    ...          ...          ...      ...\n",
              "96      Laurin      P   5:34:00 PM   5:52:00 PM  0:18:00\n",
              "97   Gilbert G      L   5:30:00 PM   5:44:00 PM  0:14:00\n",
              "98        Niel      L   5:45:00 PM   6:00:00 PM  0:15:00\n",
              "99        Shem      L   5:45:00 PM   6:00:00 PM  0:15:00\n",
              "100   Renata K      P   5:31:00 PM   5:51:00 PM  0:20:00\n",
              "\n",
              "[101 rows x 5 columns]"
            ]
          },
          "metadata": {},
          "output_type": "display_data"
        }
      ],
      "source": [
        "# menggabungkan dua dataframe\n",
        "df_combined = pd.concat([df_siang, df_malam], ignore_index=True)\n",
        "# Display hasil gabungan DataFrame\n",
        "display(df_combined)"
      ]
    },
    {
      "cell_type": "markdown",
      "id": "zJIXJXKgHANi",
      "metadata": {
        "id": "zJIXJXKgHANi"
      },
      "source": [
        "# Prapemrosesan Data\n",
        "### Mengubah format durasi dari waktu ke integer dalam satuan menit"
      ]
    },
    {
      "cell_type": "code",
      "execution_count": 77,
      "id": "hNeh5Vl6kCIu",
      "metadata": {
        "colab": {
          "base_uri": "https://localhost:8080/",
          "height": 411
        },
        "id": "hNeh5Vl6kCIu",
        "outputId": "33750453-95fb-4b0f-9797-ba9fdca96221"
      },
      "outputs": [
        {
          "data": {
            "text/html": [
              "<div>\n",
              "<style scoped>\n",
              "    .dataframe tbody tr th:only-of-type {\n",
              "        vertical-align: middle;\n",
              "    }\n",
              "\n",
              "    .dataframe tbody tr th {\n",
              "        vertical-align: top;\n",
              "    }\n",
              "\n",
              "    .dataframe thead th {\n",
              "        text-align: right;\n",
              "    }\n",
              "</style>\n",
              "<table border=\"1\" class=\"dataframe\">\n",
              "  <thead>\n",
              "    <tr style=\"text-align: right;\">\n",
              "      <th></th>\n",
              "      <th>Nama</th>\n",
              "      <th>Gender</th>\n",
              "      <th>Mulai</th>\n",
              "      <th>Selesai</th>\n",
              "      <th>Durasi</th>\n",
              "    </tr>\n",
              "  </thead>\n",
              "  <tbody>\n",
              "    <tr>\n",
              "      <th>0</th>\n",
              "      <td>Andrea</td>\n",
              "      <td>P</td>\n",
              "      <td>12:10:00 PM</td>\n",
              "      <td>12:20:00 PM</td>\n",
              "      <td>10</td>\n",
              "    </tr>\n",
              "    <tr>\n",
              "      <th>1</th>\n",
              "      <td>Karyn</td>\n",
              "      <td>P</td>\n",
              "      <td>12:10:00 PM</td>\n",
              "      <td>12:20:00 PM</td>\n",
              "      <td>10</td>\n",
              "    </tr>\n",
              "    <tr>\n",
              "      <th>2</th>\n",
              "      <td>Felicia</td>\n",
              "      <td>P</td>\n",
              "      <td>12:10:00 PM</td>\n",
              "      <td>12:20:00 PM</td>\n",
              "      <td>10</td>\n",
              "    </tr>\n",
              "    <tr>\n",
              "      <th>3</th>\n",
              "      <td>Ionna</td>\n",
              "      <td>P</td>\n",
              "      <td>12:10:00 PM</td>\n",
              "      <td>12:20:00 PM</td>\n",
              "      <td>10</td>\n",
              "    </tr>\n",
              "    <tr>\n",
              "      <th>4</th>\n",
              "      <td>Fredrik</td>\n",
              "      <td>L</td>\n",
              "      <td>12:10:00 PM</td>\n",
              "      <td>12:24:00 PM</td>\n",
              "      <td>14</td>\n",
              "    </tr>\n",
              "    <tr>\n",
              "      <th>5</th>\n",
              "      <td>Kenji</td>\n",
              "      <td>L</td>\n",
              "      <td>12:10:00 PM</td>\n",
              "      <td>12:24:00 PM</td>\n",
              "      <td>14</td>\n",
              "    </tr>\n",
              "    <tr>\n",
              "      <th>6</th>\n",
              "      <td>Anna</td>\n",
              "      <td>P</td>\n",
              "      <td>12:19:00 PM</td>\n",
              "      <td>12:28:00 PM</td>\n",
              "      <td>9</td>\n",
              "    </tr>\n",
              "    <tr>\n",
              "      <th>7</th>\n",
              "      <td>Louis H</td>\n",
              "      <td>L</td>\n",
              "      <td>12:19:00 PM</td>\n",
              "      <td>12:27:00 PM</td>\n",
              "      <td>8</td>\n",
              "    </tr>\n",
              "    <tr>\n",
              "      <th>8</th>\n",
              "      <td>Gerwin</td>\n",
              "      <td>L</td>\n",
              "      <td>12:20:00 PM</td>\n",
              "      <td>12:26:00 PM</td>\n",
              "      <td>6</td>\n",
              "    </tr>\n",
              "    <tr>\n",
              "      <th>9</th>\n",
              "      <td>Palti</td>\n",
              "      <td>L</td>\n",
              "      <td>12:20:00 PM</td>\n",
              "      <td>12:27:00 PM</td>\n",
              "      <td>7</td>\n",
              "    </tr>\n",
              "  </tbody>\n",
              "</table>\n",
              "</div>"
            ],
            "text/plain": [
              "      Nama Gender        Mulai      Selesai  Durasi\n",
              "0   Andrea      P  12:10:00 PM  12:20:00 PM      10\n",
              "1    Karyn      P  12:10:00 PM  12:20:00 PM      10\n",
              "2  Felicia      P  12:10:00 PM  12:20:00 PM      10\n",
              "3    Ionna      P  12:10:00 PM  12:20:00 PM      10\n",
              "4  Fredrik      L  12:10:00 PM  12:24:00 PM      14\n",
              "5    Kenji      L  12:10:00 PM  12:24:00 PM      14\n",
              "6     Anna      P  12:19:00 PM  12:28:00 PM       9\n",
              "7  Louis H      L  12:19:00 PM  12:27:00 PM       8\n",
              "8   Gerwin      L  12:20:00 PM  12:26:00 PM       6\n",
              "9    Palti      L  12:20:00 PM  12:27:00 PM       7"
            ]
          },
          "metadata": {},
          "output_type": "display_data"
        }
      ],
      "source": [
        "# fungsi mengubah format durasi \"1:10:00\" menjadi \"70\" dalam menit\n",
        "def convert_to_minutes(value):\n",
        "    # konversi dari jam ke menit\n",
        "    minutes = int(value.split(\":\")[0]) * 60\n",
        "    \n",
        "    # menambahkan jam dengan menit\n",
        "    minutes = minutes + int(value.split(\":\")[1])\n",
        "    return minutes\n",
        "\n",
        "df_siang[\"Durasi\"] = df_siang[\"Durasi\"].apply(convert_to_minutes)\n",
        "\n",
        "df_malam[\"Durasi\"] = df_malam[\"Durasi\"].apply(convert_to_minutes)\n",
        "\n",
        "df_combined[\"Durasi\"] = df_combined[\"Durasi\"].apply(convert_to_minutes)\n",
        "\n",
        "display(df_combined.head(10))"
      ]
    },
    {
      "cell_type": "markdown",
      "id": "ab14becf",
      "metadata": {},
      "source": [
        "# Data Keseluruhan"
      ]
    },
    {
      "cell_type": "markdown",
      "id": "58051740",
      "metadata": {},
      "source": [
        "## Exploratory Data Analysis (EDA)"
      ]
    },
    {
      "cell_type": "markdown",
      "id": "b0b7a014",
      "metadata": {},
      "source": [
        "### Menampilkan Informasi Data"
      ]
    },
    {
      "cell_type": "code",
      "execution_count": 78,
      "id": "aaa1e7f0",
      "metadata": {},
      "outputs": [
        {
          "name": "stdout",
          "output_type": "stream",
          "text": [
            "<class 'pandas.core.frame.DataFrame'>\n",
            "RangeIndex: 101 entries, 0 to 100\n",
            "Data columns (total 5 columns):\n",
            " #   Column   Non-Null Count  Dtype \n",
            "---  ------   --------------  ----- \n",
            " 0   Nama     101 non-null    object\n",
            " 1   Gender   101 non-null    object\n",
            " 2   Mulai    101 non-null    object\n",
            " 3   Selesai  101 non-null    object\n",
            " 4   Durasi   101 non-null    int64 \n",
            "dtypes: int64(1), object(4)\n",
            "memory usage: 4.1+ KB\n"
          ]
        }
      ],
      "source": [
        "df_combined.info()"
      ]
    },
    {
      "cell_type": "code",
      "execution_count": 79,
      "id": "af88ce6a",
      "metadata": {},
      "outputs": [
        {
          "data": {
            "text/html": [
              "<div>\n",
              "<style scoped>\n",
              "    .dataframe tbody tr th:only-of-type {\n",
              "        vertical-align: middle;\n",
              "    }\n",
              "\n",
              "    .dataframe tbody tr th {\n",
              "        vertical-align: top;\n",
              "    }\n",
              "\n",
              "    .dataframe thead th {\n",
              "        text-align: right;\n",
              "    }\n",
              "</style>\n",
              "<table border=\"1\" class=\"dataframe\">\n",
              "  <thead>\n",
              "    <tr style=\"text-align: right;\">\n",
              "      <th></th>\n",
              "      <th>Durasi</th>\n",
              "    </tr>\n",
              "  </thead>\n",
              "  <tbody>\n",
              "    <tr>\n",
              "      <th>count</th>\n",
              "      <td>101.000000</td>\n",
              "    </tr>\n",
              "    <tr>\n",
              "      <th>mean</th>\n",
              "      <td>18.821782</td>\n",
              "    </tr>\n",
              "    <tr>\n",
              "      <th>std</th>\n",
              "      <td>10.993995</td>\n",
              "    </tr>\n",
              "    <tr>\n",
              "      <th>min</th>\n",
              "      <td>6.000000</td>\n",
              "    </tr>\n",
              "    <tr>\n",
              "      <th>25%</th>\n",
              "      <td>12.000000</td>\n",
              "    </tr>\n",
              "    <tr>\n",
              "      <th>50%</th>\n",
              "      <td>16.000000</td>\n",
              "    </tr>\n",
              "    <tr>\n",
              "      <th>75%</th>\n",
              "      <td>21.000000</td>\n",
              "    </tr>\n",
              "    <tr>\n",
              "      <th>max</th>\n",
              "      <td>60.000000</td>\n",
              "    </tr>\n",
              "  </tbody>\n",
              "</table>\n",
              "</div>"
            ],
            "text/plain": [
              "           Durasi\n",
              "count  101.000000\n",
              "mean    18.821782\n",
              "std     10.993995\n",
              "min      6.000000\n",
              "25%     12.000000\n",
              "50%     16.000000\n",
              "75%     21.000000\n",
              "max     60.000000"
            ]
          },
          "execution_count": 79,
          "metadata": {},
          "output_type": "execute_result"
        }
      ],
      "source": [
        "df_combined.describe()"
      ]
    },
    {
      "cell_type": "markdown",
      "id": "dfc00ca2",
      "metadata": {},
      "source": [
        "### Bar Chart Banyaknya Sampel Berdasarkan Gender"
      ]
    },
    {
      "cell_type": "code",
      "execution_count": 80,
      "id": "eaad409c",
      "metadata": {},
      "outputs": [
        {
          "data": {
            "image/png": "[encoded data removed]",
            "text/plain": [
              "<Figure size 800x500 with 1 Axes>"
            ]
          },
          "metadata": {},
          "output_type": "display_data"
        }
      ],
      "source": [
        "# panggil Series untuk kolom \"Gender\"\n",
        "gender_series = df_combined[\"Gender\"]\n",
        "\n",
        "# konversi menjadi tabel frekuensi\n",
        "freq_table = gender_series.value_counts()\n",
        "\n",
        "# Membangun Bar Chart dengan Matplotlib\n",
        "# Membangun list nilai x dan y untuk digambar di bar chart\n",
        "x = freq_table.index.to_list()\n",
        "y = freq_table.to_list()\n",
        "\n",
        "# mendefinisikan kanvas untuk menggambar diagram\n",
        "fig = plt.figure(figsize =(8, 5)) \n",
        "\n",
        "# perintah untuk menggambar diagram di kanvas\n",
        "plt.bar(x, y, color=['skyblue','salmon'])\n",
        "\n",
        "# Mengubah label pada sumbu x\n",
        "plt.xticks(x, [\"Laki-Laki\", \"Perempuan\"])  # Mengganti \"L\" menjadi \"Laki-Laki\" dan \"P\" menjadi \"Perempuan\"\n",
        "\n",
        "# perintah untuk memberi label sumbu x dan y\n",
        "plt.xlabel(\"Jenis Kelamin\")\n",
        "plt.ylabel(\"Jumlah Data\")\n",
        "\n",
        "# perintah untuk memberi judul diagram\n",
        "plt.title(\"Banyak Sampel Data Durasi Makan (101 Orang)\")\n",
        "\n",
        "# perintah untuk menampilkan gambar di kanvas\n",
        "plt.show()"
      ]
    },
    {
      "cell_type": "markdown",
      "id": "81fa1dab",
      "metadata": {},
      "source": [
        "### Box Plot Sebaran Sampel Berdasarkan Gender"
      ]
    },
    {
      "cell_type": "code",
      "execution_count": 81,
      "id": "773f3612",
      "metadata": {},
      "outputs": [
        {
          "data": {
            "image/png": "[encoded data removed]",
            "text/plain": [
              "<Figure size 1000x800 with 1 Axes>"
            ]
          },
          "metadata": {},
          "output_type": "display_data"
        }
      ],
      "source": [
        "fig = plt.figure(figsize =(10, 8))\n",
        "sns.boxplot(data=df_combined, x=\"Gender\", y=\"Durasi\")\n",
        "plt.grid()\n",
        "plt.xticks(x, [\"Laki-Laki\", \"Perempuan\"])  # Mengganti \"L\" menjadi \"Laki-Laki\" dan \"P\" menjadi \"Perempuan\"\n",
        "plt.ylabel(\"Durasi (menit)\")\n",
        "plt.title(\"Boxplot of Duration Grouped by Gender\")\n",
        "plt.show()"
      ]
    },
    {
      "cell_type": "markdown",
      "id": "afd9542f",
      "metadata": {},
      "source": [
        "# Analisis Statistika"
      ]
    },
    {
      "cell_type": "code",
      "execution_count": 82,
      "id": "70c95d84",
      "metadata": {},
      "outputs": [
        {
          "name": "stdout",
          "output_type": "stream",
          "text": [
            "### MENGHITUNG STATISTIK SAMPEL DURASI ###\n",
            "Total data DURASI sampel\t: 101\n",
            "Rata-rata data DURASI sampel\t: 18.821782178217823\n",
            "Stdev data DURASI sampel\t: 10.993994760417126\n"
          ]
        }
      ],
      "source": [
        "durasi = df_combined[['Durasi']]\n",
        "durasi_array = np.array(durasi)\n",
        "\n",
        "n_sampel_durasi = len(durasi_array)\n",
        "x_bar_sampel_durasi = np.mean(durasi_array)\n",
        "s_sampel_durasi = stats.tstd(durasi_array)[0]\n",
        "\n",
        "print(\"### MENGHITUNG STATISTIK SAMPEL DURASI ###\")\n",
        "print(\"Total data DURASI sampel\\t: {}\".format(n_sampel_durasi))\n",
        "print(\"Rata-rata data DURASI sampel\\t: {}\".format(x_bar_sampel_durasi))\n",
        "print(\"Stdev data DURASI sampel\\t: {}\".format(s_sampel_durasi))"
      ]
    },
    {
      "cell_type": "code",
      "execution_count": 83,
      "id": "11881089",
      "metadata": {},
      "outputs": [
        {
          "data": {
            "image/png": "[encoded data removed]",
            "text/plain": [
              "<Figure size 640x480 with 1 Axes>"
            ]
          },
          "metadata": {},
          "output_type": "display_data"
        }
      ],
      "source": [
        "# visualisasi sebaran data durasi\n",
        "\n",
        "plt.hist(durasi_array)\n",
        "plt.xlabel(\"Durasi (menit)\")\n",
        "plt.ylabel(\"Frekuensi\")\n",
        "plt.title(\"Sebaran Data Durasi\")\n",
        "plt.show()"
      ]
    },
    {
      "cell_type": "markdown",
      "id": "gKsrbrSrZmnW",
      "metadata": {
        "id": "gKsrbrSrZmnW"
      },
      "source": [
        "# **Masalah 1**"
      ]
    },
    {
      "cell_type": "markdown",
      "id": "i2hsU5yYeHAh",
      "metadata": {
        "id": "i2hsU5yYeHAh"
      },
      "source": [
        "## Formulasikan Hipotesis\n",
        "\n",
        "\n",
        "Misalkan $X$ menyatakan variabel acak dari nilai durasi mahasiswa menghabiskan waktu untuk makan di DH, dalam satuan menit. Untuk menguji apakah pernyataan \"$\\mu_X ≤ 25$\" sahih secara statistika, maka tuliskan pernyataan \"$\\mu_X > 25$\" sebagai **hipotesis tandingan ($H_1$)**, yaitu\n",
        "\n",
        "$$\n",
        "\\begin{align*}\n",
        "H_0&: \\mu_X ≤ 25\\\\\n",
        "H_1&: \\mu_X > 25\n",
        "\\end{align*}\n",
        "$$"
      ]
    },
    {
      "cell_type": "markdown",
      "id": "18d67589",
      "metadata": {
        "id": "18d67589"
      },
      "source": [
        "## Pilih Tingkat Signifikansi"
      ]
    },
    {
      "cell_type": "code",
      "execution_count": 84,
      "id": "b817bd48",
      "metadata": {
        "id": "b817bd48"
      },
      "outputs": [],
      "source": [
        "# variabel alpha menyatakan tingkat signifikansi\n",
        "# artinya 1 - alpha adalah tingkat keyakinan\n",
        "alpha = 0.05"
      ]
    },
    {
      "cell_type": "markdown",
      "id": "fd28a2e8",
      "metadata": {
        "id": "fd28a2e8"
      },
      "source": [
        "## Pilih Statistik yang sesuai\n",
        "\n",
        "Berikut hal yang menentukan pemilihan statistik:\n",
        "* Yang hendak diuji dalam hipotesis adalah **rata-rata** populasi.\n",
        "* Terdapat **satu** buah populasi yang terlibat dalam uji hipotesis.\n",
        "* Jenis uji hipotesis yang dilakukan adalah **satu sisi**.\n",
        "* Terdapat 101 data sampel, jadi hanya ada **banyak** ukuran data sampelnya.\n",
        "\n",
        "Berdasarkan poin-poin pertimbangan di atas, maka jenis statistik yang dipilih adalah **distribusi Z untuk 1 populasi**."
      ]
    },
    {
      "cell_type": "markdown",
      "id": "bf484f64",
      "metadata": {
        "id": "bf484f64"
      },
      "source": [
        "## Hitung nilai P-value dari statistik"
      ]
    },
    {
      "cell_type": "code",
      "execution_count": 85,
      "id": "0a8dfe49",
      "metadata": {
        "colab": {
          "base_uri": "https://localhost:8080/"
        },
        "id": "0a8dfe49",
        "outputId": "6914bebb-b421-4eba-c58e-93a6ebacd360"
      },
      "outputs": [
        {
          "name": "stdout",
          "output_type": "stream",
          "text": [
            "Statistic\t: -5.648\n",
            "P-Value  \t: 1.000e+00\n"
          ]
        }
      ],
      "source": [
        "# popmean adalah nilai tebakan dalam pernyataan hipotesis\n",
        "popmean = 25\n",
        "\n",
        "# alternative_type adalah sebuah string untuk menandakan jenis hipotesis tandingan (H_1) yang diharapkan\n",
        "# nilai string yang dapat dipilih:\n",
        "#     - 'two-sided': artinya H_1 memiliki format mu_x != popmean;\n",
        "#     - 'smaller': artinya H_1 memiliki format mu_x < popmean;\n",
        "#     - 'larger': artinya H_1 memiliki format mu_x > popmean.\n",
        "alternative_type = 'larger'\n",
        "\n",
        "# method akan memberikan 2 return value, yaitu nilai statistic z-score dan nilai p-valuenya\n",
        "statistic , pvalue = ztest(durasi_array, value=popmean, alternative=alternative_type)\n",
        "print(f\"Statistic\\t: {statistic[0]:.3f}\")\n",
        "print(f\"P-Value  \\t: {pvalue[0]:.3e}\")"
      ]
    },
    {
      "cell_type": "markdown",
      "id": "e7c63570",
      "metadata": {
        "id": "e7c63570"
      },
      "source": [
        "## Buat Kesimpulan berdasarkan P-value"
      ]
    },
    {
      "cell_type": "code",
      "execution_count": 86,
      "id": "0321724b",
      "metadata": {
        "colab": {
          "base_uri": "https://localhost:8080/"
        },
        "id": "0321724b",
        "outputId": "c61484a1-10ba-42cb-cc5e-b40b84e50c45"
      },
      "outputs": [
        {
          "name": "stdout",
          "output_type": "stream",
          "text": [
            "Hypothesis Testing Result:\n",
            "-----------------------------\n",
            "\tWith confidence level  95%, it failed to reject the Null Hypothesis.\n"
          ]
        }
      ],
      "source": [
        "def conclude_test(pvalue, alpha):\n",
        "    print(\"Hypothesis Testing Result:\")\n",
        "    print(\"-----------------------------\")\n",
        "    if (pvalue > alpha):\n",
        "        print(f\"\\tWith confidence level {(1-alpha)*100:3.0f}%, it failed to reject the Null Hypothesis.\")\n",
        "    else:\n",
        "        print(f\"\\tWith confidence level {(1-alpha)*100:3.0f}%, it is statistically valid to reject the Null Hypothesis.\")\n",
        "\n",
        "conclude_test(pvalue, alpha)"
      ]
    },
    {
      "cell_type": "markdown",
      "id": "93a8cf61",
      "metadata": {
        "id": "93a8cf61"
      },
      "source": [
        "## Terjemahkan ke bahasa sehari-hari\n",
        "\n",
        "**Kesimpulan:**\n",
        "\n",
        "Dengan tingkat keyakinan 95%, uji hipotesis belum cukup bukti untuk menyimpulkan bahwa durasi makan mahasiswa CIT tidak lebih dari 25 menit."
      ]
    },
    {
      "cell_type": "markdown",
      "id": "c77a37a2",
      "metadata": {},
      "source": [
        "## Formulasikan Hipotesis (2)\n",
        "\n",
        "\n",
        "Misalkan $X$ menyatakan variabel acak dari nilai durasi mahasiswa menghabiskan waktu untuk makan di DH, dalam satuan menit. Untuk menguji apakah pernyataan \"$\\mu_X ≥ 25$\" sahih secara statistika, maka tuliskan pernyataan \"$\\mu_X < 25$\" sebagai **hipotesis tandingan ($H_1$)**, yaitu\n",
        "\n",
        "$$\n",
        "\\begin{align*}\n",
        "H_0&: \\mu_X ≥ 25\\\\\n",
        "H_1&: \\mu_X < 25\n",
        "\\end{align*}\n",
        "$$"
      ]
    },
    {
      "cell_type": "markdown",
      "id": "ba5606c4",
      "metadata": {},
      "source": [
        "## Pilih Tingkat Signifikansi"
      ]
    },
    {
      "cell_type": "code",
      "execution_count": 87,
      "id": "72662760",
      "metadata": {},
      "outputs": [],
      "source": [
        "# variabel alpha menyatakan tingkat signifikansi\n",
        "# artinya 1 - alpha adalah tingkat keyakinan\n",
        "alpha = 0.05"
      ]
    },
    {
      "cell_type": "markdown",
      "id": "ab16fdf9",
      "metadata": {},
      "source": [
        "## Pilih Statistik yang sesuai\n",
        "\n",
        "Berikut hal yang menentukan pemilihan statistik:\n",
        "* Yang hendak diuji dalam hipotesis adalah **rata-rata** populasi.\n",
        "* Terdapat **satu** buah populasi yang terlibat dalam uji hipotesis.\n",
        "* Jenis uji hipotesis yang dilakukan adalah **satu sisi**.\n",
        "* Terdapat 101 data sampel, jadi hanya ada **banyak** ukuran data sampelnya.\n",
        "\n",
        "Berdasarkan poin-poin pertimbangan di atas, maka jenis statistik yang dipilih adalah **distribusi Z untuk 1 populasi**."
      ]
    },
    {
      "cell_type": "markdown",
      "id": "8fc71d4a",
      "metadata": {},
      "source": [
        "## Hitung nilai P-value dari statistik"
      ]
    },
    {
      "cell_type": "code",
      "execution_count": 88,
      "id": "f8cdb733",
      "metadata": {},
      "outputs": [
        {
          "name": "stdout",
          "output_type": "stream",
          "text": [
            "Statistic\t: -5.648\n",
            "P-Value  \t: 8.132e-09\n"
          ]
        }
      ],
      "source": [
        "# popmean adalah nilai tebakan dalam pernyataan hipotesis\n",
        "popmean = 25\n",
        "\n",
        "# alternative_type adalah sebuah string untuk menandakan jenis hipotesis tandingan (H_1) yang diharapkan\n",
        "# nilai string yang dapat dipilih:\n",
        "#     - 'two-sided': artinya H_1 memiliki format mu_x != popmean;\n",
        "#     - 'smaller': artinya H_1 memiliki format mu_x < popmean;\n",
        "#     - 'larger': artinya H_1 memiliki format mu_x > popmean.\n",
        "alternative_type = 'smaller'\n",
        "\n",
        "# method akan memberikan 2 return value, yaitu nilai statistic z-score dan nilai p-valuenya\n",
        "statistic , pvalue = ztest(durasi_array, value=popmean, alternative=alternative_type)\n",
        "print(f\"Statistic\\t: {statistic[0]:.3f}\")\n",
        "print(f\"P-Value  \\t: {pvalue[0]:.3e}\")"
      ]
    },
    {
      "cell_type": "markdown",
      "id": "e271cf65",
      "metadata": {},
      "source": [
        "## Buat Kesimpulan berdasarkan P-value"
      ]
    },
    {
      "cell_type": "code",
      "execution_count": 89,
      "id": "fc5f6a94",
      "metadata": {},
      "outputs": [
        {
          "name": "stdout",
          "output_type": "stream",
          "text": [
            "Hypothesis Testing Result:\n",
            "-----------------------------\n",
            "\tWith confidence level  95%, it is statistically valid to reject the Null Hypothesis.\n"
          ]
        }
      ],
      "source": [
        "def conclude_test(pvalue, alpha):\n",
        "    print(\"Hypothesis Testing Result:\")\n",
        "    print(\"-----------------------------\")\n",
        "    if (pvalue > alpha):\n",
        "        print(f\"\\tWith confidence level {(1-alpha)*100:3.0f}%, it failed to reject the Null Hypothesis.\")\n",
        "    else:\n",
        "        print(f\"\\tWith confidence level {(1-alpha)*100:3.0f}%, it is statistically valid to reject the Null Hypothesis.\")\n",
        "\n",
        "conclude_test(pvalue, alpha)"
      ]
    },
    {
      "cell_type": "markdown",
      "id": "0f38d675",
      "metadata": {},
      "source": [
        "## Terjemahkan ke bahasa sehari-hari\n",
        "\n",
        "**Kesimpulan:**\n",
        "\n",
        "Dengan tingkat keyakinan 95%, uji hipotesis memiliki cukup bukti untuk menolak bahwa rata-rata durasi makan mahasiswa CIT tidak kurang dari 25 menit. Dengan kata lain, hipotesis yang mengatakan bahwa mahasiswa CIT makan dengan durasi waktu lebih dari sama dengan 25 menit adalah tidak valid."
      ]
    },
    {
      "cell_type": "markdown",
      "id": "QuJ0aMcnZ7E-",
      "metadata": {
        "id": "QuJ0aMcnZ7E-"
      },
      "source": [
        "# **Masalah 2**"
      ]
    },
    {
      "cell_type": "markdown",
      "id": "tw7JRYmxfBkJ",
      "metadata": {
        "id": "tw7JRYmxfBkJ"
      },
      "source": [
        "## Formulasikan Hipotesis\n",
        "\n",
        "\n",
        "Misalkan $X$ menyatakan variabel acak dari standar deviasi durasi mahasiswa menghabiskan waktu untuk makan di DH, dalam satuan menit. Untuk menguji apakah pernyataan \"$\\sigma_X^2 ≤ 25$\" sahih secara statistika, maka tuliskan pernyataan \"$\\sigma_X^2 > 25$\" sebagai **hipotesis tandingan ($H_1$)**, yaitu\n",
        "\n",
        "$$\n",
        "\\begin{align*}\n",
        "H_0&: \\sigma_X^2 ≤ 25\\\\\n",
        "H_1&: \\sigma_X^2 > 25\n",
        "\\end{align*}\n",
        "$$"
      ]
    },
    {
      "cell_type": "markdown",
      "id": "yDQPvs3Mctar",
      "metadata": {
        "id": "yDQPvs3Mctar"
      },
      "source": [
        "## Pilih Tingkat Signifikansi"
      ]
    },
    {
      "cell_type": "code",
      "execution_count": 90,
      "id": "f87770b9",
      "metadata": {},
      "outputs": [],
      "source": [
        "# variabel alpha menyatakan tingkat signifikansi\n",
        "# artinya 1 - alpha adalah tingkat keyakinan\n",
        "alpha = 0.05"
      ]
    },
    {
      "cell_type": "markdown",
      "id": "b847e3ee",
      "metadata": {},
      "source": [
        "## Menghitung Statistik Uji dan Critical Region"
      ]
    },
    {
      "cell_type": "code",
      "execution_count": 91,
      "id": "f39c352e",
      "metadata": {},
      "outputs": [
        {
          "name": "stdout",
          "output_type": "stream",
          "text": [
            "### MEMBANGUN STATISTIK UJI DAN CRITICAL REGION ###\n",
            "Statistik Uji    \t: 483.4716831683168\n",
            "Derajat Kebebasan\t: 100\n",
            "Batas Critical Region\t: 77.92946516501726\n",
            "Hypothesis Testing Result:\n",
            "-----------------------------\n",
            "\tWith confidence level  95%, it is statistically valid to reject the Null Hypothesis.\n"
          ]
        }
      ],
      "source": [
        "# menghitung statistik uji\n",
        "degree_of_freedom = n_sampel_durasi-1\n",
        "statistik_uji = (degree_of_freedom * ((s_sampel_durasi) ** 2))/25\n",
        "\n",
        "# mencari nilai c_alpha_half sehingga P(Chi<c_alpha_half) = alpha/2\n",
        "batas_critical_region = stats.chi2.ppf(alpha, degree_of_freedom)\n",
        "\n",
        "def conclude_test(batas_critical_region, statistik_uji):\n",
        "    print(\"Hypothesis Testing Result:\")\n",
        "    print(\"-----------------------------\")\n",
        "    if (batas_critical_region > statistik_uji):\n",
        "        print(f\"\\tWith confidence level {(1-alpha)*100:3.0f}%, it failed to reject the Null Hypothesis.\")\n",
        "    else:\n",
        "        print(f\"\\tWith confidence level {(1-alpha)*100:3.0f}%, it is statistically valid to reject the Null Hypothesis.\")\n",
        "\n",
        "print(\"### MEMBANGUN STATISTIK UJI DAN CRITICAL REGION ###\")\n",
        "print(\"Statistik Uji    \\t: {}\".format(statistik_uji))\n",
        "print(\"Derajat Kebebasan\\t: {}\".format(degree_of_freedom))\n",
        "print(\"Batas Critical Region\\t: {}\".format(batas_critical_region))\n",
        "\n",
        "conclude_test(batas_critical_region, statistik_uji)"
      ]
    },
    {
      "cell_type": "markdown",
      "id": "AInHPQtBkK7b",
      "metadata": {
        "id": "AInHPQtBkK7b"
      },
      "source": [
        "## Terjemahkan ke bahasa sehari-hari\n",
        "\n",
        "**Kesimpulan:**\n",
        "\n",
        "Dengan tingkat keyakinan 95%, uji hipotesis memiliki cukup bukti untuk menolak pernyataan bahwa standar deviasi keseluruhan durasi mahasiswa makan di DH tidak lebih dari $5$ menit."
      ]
    },
    {
      "cell_type": "markdown",
      "id": "WRQM5uX2lb5a",
      "metadata": {
        "id": "WRQM5uX2lb5a"
      },
      "source": [
        "# **Masalah 3**"
      ]
    },
    {
      "cell_type": "code",
      "execution_count": 92,
      "id": "nbOEcj0AlgCe",
      "metadata": {
        "colab": {
          "base_uri": "https://localhost:8080/",
          "height": 1000
        },
        "id": "nbOEcj0AlgCe",
        "outputId": "188cfb41-8f75-43e3-bad8-2bd6096e166d"
      },
      "outputs": [
        {
          "data": {
            "text/html": [
              "<div>\n",
              "<style scoped>\n",
              "    .dataframe tbody tr th:only-of-type {\n",
              "        vertical-align: middle;\n",
              "    }\n",
              "\n",
              "    .dataframe tbody tr th {\n",
              "        vertical-align: top;\n",
              "    }\n",
              "\n",
              "    .dataframe thead th {\n",
              "        text-align: right;\n",
              "    }\n",
              "</style>\n",
              "<table border=\"1\" class=\"dataframe\">\n",
              "  <thead>\n",
              "    <tr style=\"text-align: right;\">\n",
              "      <th></th>\n",
              "      <th>Nama</th>\n",
              "      <th>Gender</th>\n",
              "      <th>Mulai</th>\n",
              "      <th>Selesai</th>\n",
              "      <th>Durasi</th>\n",
              "    </tr>\n",
              "  </thead>\n",
              "  <tbody>\n",
              "    <tr>\n",
              "      <th>4</th>\n",
              "      <td>Fredrik</td>\n",
              "      <td>L</td>\n",
              "      <td>12:10:00 PM</td>\n",
              "      <td>12:24:00 PM</td>\n",
              "      <td>14</td>\n",
              "    </tr>\n",
              "    <tr>\n",
              "      <th>5</th>\n",
              "      <td>Kenji</td>\n",
              "      <td>L</td>\n",
              "      <td>12:10:00 PM</td>\n",
              "      <td>12:24:00 PM</td>\n",
              "      <td>14</td>\n",
              "    </tr>\n",
              "    <tr>\n",
              "      <th>7</th>\n",
              "      <td>Louis H</td>\n",
              "      <td>L</td>\n",
              "      <td>12:19:00 PM</td>\n",
              "      <td>12:27:00 PM</td>\n",
              "      <td>8</td>\n",
              "    </tr>\n",
              "    <tr>\n",
              "      <th>8</th>\n",
              "      <td>Gerwin</td>\n",
              "      <td>L</td>\n",
              "      <td>12:20:00 PM</td>\n",
              "      <td>12:26:00 PM</td>\n",
              "      <td>6</td>\n",
              "    </tr>\n",
              "    <tr>\n",
              "      <th>9</th>\n",
              "      <td>Palti</td>\n",
              "      <td>L</td>\n",
              "      <td>12:20:00 PM</td>\n",
              "      <td>12:27:00 PM</td>\n",
              "      <td>7</td>\n",
              "    </tr>\n",
              "    <tr>\n",
              "      <th>10</th>\n",
              "      <td>Jonathan T</td>\n",
              "      <td>L</td>\n",
              "      <td>12:20:00 PM</td>\n",
              "      <td>12:28:00 PM</td>\n",
              "      <td>8</td>\n",
              "    </tr>\n",
              "    <tr>\n",
              "      <th>11</th>\n",
              "      <td>Feivel</td>\n",
              "      <td>L</td>\n",
              "      <td>12:20:00 PM</td>\n",
              "      <td>12:27:00 PM</td>\n",
              "      <td>7</td>\n",
              "    </tr>\n",
              "    <tr>\n",
              "      <th>12</th>\n",
              "      <td>David</td>\n",
              "      <td>L</td>\n",
              "      <td>12:20:00 PM</td>\n",
              "      <td>12:27:00 PM</td>\n",
              "      <td>7</td>\n",
              "    </tr>\n",
              "    <tr>\n",
              "      <th>14</th>\n",
              "      <td>Christopher</td>\n",
              "      <td>L</td>\n",
              "      <td>12:19:00 PM</td>\n",
              "      <td>12:28:00 PM</td>\n",
              "      <td>9</td>\n",
              "    </tr>\n",
              "    <tr>\n",
              "      <th>16</th>\n",
              "      <td>Albert</td>\n",
              "      <td>L</td>\n",
              "      <td>12:16:00 PM</td>\n",
              "      <td>12:38:00 PM</td>\n",
              "      <td>22</td>\n",
              "    </tr>\n",
              "  </tbody>\n",
              "</table>\n",
              "</div>"
            ],
            "text/plain": [
              "           Nama Gender        Mulai      Selesai  Durasi\n",
              "4       Fredrik      L  12:10:00 PM  12:24:00 PM      14\n",
              "5         Kenji      L  12:10:00 PM  12:24:00 PM      14\n",
              "7       Louis H      L  12:19:00 PM  12:27:00 PM       8\n",
              "8        Gerwin      L  12:20:00 PM  12:26:00 PM       6\n",
              "9         Palti      L  12:20:00 PM  12:27:00 PM       7\n",
              "10   Jonathan T      L  12:20:00 PM  12:28:00 PM       8\n",
              "11       Feivel      L  12:20:00 PM  12:27:00 PM       7\n",
              "12        David      L  12:20:00 PM  12:27:00 PM       7\n",
              "14  Christopher      L  12:19:00 PM  12:28:00 PM       9\n",
              "16       Albert      L  12:16:00 PM  12:38:00 PM      22"
            ]
          },
          "metadata": {},
          "output_type": "display_data"
        },
        {
          "data": {
            "text/html": [
              "<div>\n",
              "<style scoped>\n",
              "    .dataframe tbody tr th:only-of-type {\n",
              "        vertical-align: middle;\n",
              "    }\n",
              "\n",
              "    .dataframe tbody tr th {\n",
              "        vertical-align: top;\n",
              "    }\n",
              "\n",
              "    .dataframe thead th {\n",
              "        text-align: right;\n",
              "    }\n",
              "</style>\n",
              "<table border=\"1\" class=\"dataframe\">\n",
              "  <thead>\n",
              "    <tr style=\"text-align: right;\">\n",
              "      <th></th>\n",
              "      <th>Nama</th>\n",
              "      <th>Gender</th>\n",
              "      <th>Mulai</th>\n",
              "      <th>Selesai</th>\n",
              "      <th>Durasi</th>\n",
              "    </tr>\n",
              "  </thead>\n",
              "  <tbody>\n",
              "    <tr>\n",
              "      <th>0</th>\n",
              "      <td>Andrea</td>\n",
              "      <td>P</td>\n",
              "      <td>12:10:00 PM</td>\n",
              "      <td>12:20:00 PM</td>\n",
              "      <td>10</td>\n",
              "    </tr>\n",
              "    <tr>\n",
              "      <th>1</th>\n",
              "      <td>Karyn</td>\n",
              "      <td>P</td>\n",
              "      <td>12:10:00 PM</td>\n",
              "      <td>12:20:00 PM</td>\n",
              "      <td>10</td>\n",
              "    </tr>\n",
              "    <tr>\n",
              "      <th>2</th>\n",
              "      <td>Felicia</td>\n",
              "      <td>P</td>\n",
              "      <td>12:10:00 PM</td>\n",
              "      <td>12:20:00 PM</td>\n",
              "      <td>10</td>\n",
              "    </tr>\n",
              "    <tr>\n",
              "      <th>3</th>\n",
              "      <td>Ionna</td>\n",
              "      <td>P</td>\n",
              "      <td>12:10:00 PM</td>\n",
              "      <td>12:20:00 PM</td>\n",
              "      <td>10</td>\n",
              "    </tr>\n",
              "    <tr>\n",
              "      <th>6</th>\n",
              "      <td>Anna</td>\n",
              "      <td>P</td>\n",
              "      <td>12:19:00 PM</td>\n",
              "      <td>12:28:00 PM</td>\n",
              "      <td>9</td>\n",
              "    </tr>\n",
              "    <tr>\n",
              "      <th>13</th>\n",
              "      <td>Graceela</td>\n",
              "      <td>P</td>\n",
              "      <td>12:19:00 PM</td>\n",
              "      <td>12:27:00 PM</td>\n",
              "      <td>8</td>\n",
              "    </tr>\n",
              "    <tr>\n",
              "      <th>15</th>\n",
              "      <td>Brygitta</td>\n",
              "      <td>P</td>\n",
              "      <td>12:10:00 PM</td>\n",
              "      <td>12:28:00 PM</td>\n",
              "      <td>18</td>\n",
              "    </tr>\n",
              "    <tr>\n",
              "      <th>17</th>\n",
              "      <td>Jemima</td>\n",
              "      <td>P</td>\n",
              "      <td>12:03:00 PM</td>\n",
              "      <td>12:18:00 PM</td>\n",
              "      <td>15</td>\n",
              "    </tr>\n",
              "    <tr>\n",
              "      <th>18</th>\n",
              "      <td>Aurel A.H</td>\n",
              "      <td>P</td>\n",
              "      <td>12:03:00 PM</td>\n",
              "      <td>12:20:00 PM</td>\n",
              "      <td>17</td>\n",
              "    </tr>\n",
              "    <tr>\n",
              "      <th>19</th>\n",
              "      <td>Laurin</td>\n",
              "      <td>P</td>\n",
              "      <td>11:59:00 AM</td>\n",
              "      <td>12:17:00 PM</td>\n",
              "      <td>18</td>\n",
              "    </tr>\n",
              "  </tbody>\n",
              "</table>\n",
              "</div>"
            ],
            "text/plain": [
              "         Nama Gender        Mulai      Selesai  Durasi\n",
              "0      Andrea      P  12:10:00 PM  12:20:00 PM      10\n",
              "1       Karyn      P  12:10:00 PM  12:20:00 PM      10\n",
              "2     Felicia      P  12:10:00 PM  12:20:00 PM      10\n",
              "3       Ionna      P  12:10:00 PM  12:20:00 PM      10\n",
              "6        Anna      P  12:19:00 PM  12:28:00 PM       9\n",
              "13   Graceela      P  12:19:00 PM  12:27:00 PM       8\n",
              "15   Brygitta      P  12:10:00 PM  12:28:00 PM      18\n",
              "17     Jemima      P  12:03:00 PM  12:18:00 PM      15\n",
              "18  Aurel A.H      P  12:03:00 PM  12:20:00 PM      17\n",
              "19     Laurin      P  11:59:00 AM  12:17:00 PM      18"
            ]
          },
          "metadata": {},
          "output_type": "display_data"
        }
      ],
      "source": [
        "df_laki_laki = df_combined[df_combined['Gender'] == 'L']\n",
        "df_perempuan = df_combined[df_combined['Gender'] == 'P']\n",
        "\n",
        "display(df_laki_laki.head(10))\n",
        "display(df_perempuan.head(10))"
      ]
    },
    {
      "cell_type": "code",
      "execution_count": 93,
      "id": "8fabfa3a",
      "metadata": {},
      "outputs": [
        {
          "name": "stdout",
          "output_type": "stream",
          "text": [
            "### MENGHITUNG STATISTIK SAMPEL DURASI ###\n",
            "Total data DURASI LELAKI sampel\t\t: 65\n",
            "Rata-rata data DURASI LELAKI sampel\t: 19.353846153846153\n",
            "Stdev data DURASI LELAKI sampel\t\t: 12.523017269750191\n"
          ]
        }
      ],
      "source": [
        "durasi_lelaki = df_laki_laki[['Durasi']]\n",
        "durasi_lelaki_array = np.array(durasi_lelaki)\n",
        "\n",
        "n_sampel_lelaki = len(durasi_lelaki_array)\n",
        "x_bar_sampel_lelaki = np.mean(durasi_lelaki_array)\n",
        "s_sampel_lelaki = stats.tstd(durasi_lelaki_array)[0]\n",
        "\n",
        "print(\"### MENGHITUNG STATISTIK SAMPEL DURASI ###\")\n",
        "print(\"Total data DURASI LELAKI sampel\\t\\t: {}\".format(n_sampel_lelaki))\n",
        "print(\"Rata-rata data DURASI LELAKI sampel\\t: {}\".format(x_bar_sampel_lelaki))\n",
        "print(\"Stdev data DURASI LELAKI sampel\\t\\t: {}\".format(s_sampel_lelaki))"
      ]
    },
    {
      "cell_type": "code",
      "execution_count": 94,
      "id": "20fae751",
      "metadata": {},
      "outputs": [
        {
          "name": "stdout",
          "output_type": "stream",
          "text": [
            "### MENGHITUNG STATISTIK SAMPEL DURASI ###\n",
            "Total data DURASI PEREMPUAN sampel\t: 36\n",
            "Rata-rata data DURASI PEREMPUAN sampel\t: 17.86111111111111\n",
            "Stdev data DURASI PEREMPUAN sampel\t: 7.556086582646102\n"
          ]
        }
      ],
      "source": [
        "durasi_perempuan = df_perempuan[['Durasi']]\n",
        "durasi_perempuan_array = np.array(durasi_perempuan)\n",
        "\n",
        "n_sampel_perempuan = len(durasi_perempuan_array)\n",
        "x_bar_sampel_perempuan = np.mean(durasi_perempuan_array)\n",
        "s_sampel_perempuan = stats.tstd(durasi_perempuan_array)[0]\n",
        "\n",
        "print(\"### MENGHITUNG STATISTIK SAMPEL DURASI ###\")\n",
        "print(\"Total data DURASI PEREMPUAN sampel\\t: {}\".format(n_sampel_perempuan))\n",
        "print(\"Rata-rata data DURASI PEREMPUAN sampel\\t: {}\".format(x_bar_sampel_perempuan))\n",
        "print(\"Stdev data DURASI PEREMPUAN sampel\\t: {}\".format(s_sampel_perempuan))"
      ]
    },
    {
      "cell_type": "markdown",
      "id": "3dcc890f",
      "metadata": {},
      "source": [
        "## Formulasikan Hipotesis 1\n",
        "\n",
        "\n",
        "Misalkan $X$ menyatakan variabel acak dari nilai durasi mahasiswa menghabiskan waktu untuk makan di DH, dalam satuan menit. Untuk menguji apakah pernyataan \"$\\mu_X (Lelaki) ≤ \\mu_X (Perempuan)$\" sahih secara statistika, maka tuliskan pernyataan \"$\\mu_X (Lelaki) > \\mu_X (Perempuan)$\" sebagai **hipotesis tandingan ($H_1$)**, yaitu\n",
        "\n",
        "$$\n",
        "\\begin{align*}\n",
        "H_0&: \\mu_X (Lelaki) ≤ \\mu_X (Perempuan)\\\\\n",
        "H_1&: \\mu_X (Lelaki) > \\mu_X (Perempuan)\n",
        "\\end{align*}\n",
        "$$"
      ]
    },
    {
      "cell_type": "markdown",
      "id": "df80abb4",
      "metadata": {},
      "source": [
        "## Pilih Tingkat Signifikansi"
      ]
    },
    {
      "cell_type": "code",
      "execution_count": 95,
      "id": "8a44e488",
      "metadata": {},
      "outputs": [],
      "source": [
        "# variabel alpha menyatakan tingkat signifikansi\n",
        "# artinya 1 - alpha adalah tingkat keyakinan\n",
        "alpha = 0.05"
      ]
    },
    {
      "cell_type": "markdown",
      "id": "d1ded82f",
      "metadata": {},
      "source": [
        "## Hitung nilai P-value dari statistik"
      ]
    },
    {
      "cell_type": "code",
      "execution_count": 96,
      "id": "acf86711",
      "metadata": {},
      "outputs": [
        {
          "name": "stdout",
          "output_type": "stream",
          "text": [
            "Statistic\t: 0.652\n",
            "P-Value  \t: 2.573e-01\n"
          ]
        }
      ],
      "source": [
        "alternative_type = 'larger'\n",
        "\n",
        "# method akan memberikan 2 return value, yaitu nilai statistic z-score dan nilai p-valuenya\n",
        "statistic , pvalue = ztest(durasi_lelaki_array, durasi_perempuan_array, alternative=alternative_type)\n",
        "print(f\"Statistic\\t: {statistic[0]:.3f}\")\n",
        "print(f\"P-Value  \\t: {pvalue[0]:.3e}\")"
      ]
    },
    {
      "cell_type": "markdown",
      "id": "ee9efa29",
      "metadata": {},
      "source": [
        "## Buat Kesimpulan berdasarkan P-value"
      ]
    },
    {
      "cell_type": "code",
      "execution_count": 97,
      "id": "c56849fa",
      "metadata": {},
      "outputs": [
        {
          "name": "stdout",
          "output_type": "stream",
          "text": [
            "Hypothesis Testing Result:\n",
            "-----------------------------\n",
            "\tWith confidence level  95%, it failed to reject the Null Hypothesis.\n"
          ]
        }
      ],
      "source": [
        "def conclude_test(pvalue, alpha):\n",
        "    print(\"Hypothesis Testing Result:\")\n",
        "    print(\"-----------------------------\")\n",
        "    if (pvalue > alpha):\n",
        "        print(f\"\\tWith confidence level {(1-alpha)*100:3.0f}%, it failed to reject the Null Hypothesis.\")\n",
        "    else:\n",
        "        print(f\"\\tWith confidence level {(1-alpha)*100:3.0f}%, it is statistically valid to reject the Null Hypothesis.\")\n",
        "\n",
        "conclude_test(pvalue, alpha)"
      ]
    },
    {
      "cell_type": "markdown",
      "id": "f948de6b",
      "metadata": {},
      "source": [
        "## Terjemahkan ke bahasa sehari-hari\n",
        "\n",
        "**Kesimpulan:**\n",
        "\n",
        "Dengan tingkat keyakinan 95%, uji hipotesis tidak memiliki cukup bukti untuk menyimpulkan bahwa laki-laki makan lebih cepat atau setara dengan waktu makan perempuan."
      ]
    },
    {
      "cell_type": "markdown",
      "id": "32d23f2d",
      "metadata": {},
      "source": [
        "## Formulasikan Hipotesis 2\n",
        "\n",
        "\n",
        "Misalkan $X$ menyatakan variabel acak dari nilai durasi mahasiswa menghabiskan waktu untuk makan di DH, dalam satuan menit. Untuk menguji apakah pernyataan \"$\\mu_X (Lelaki) ≥ \\mu_X (Perempuan)$\" sahih secara statistika, maka tuliskan pernyataan \"$\\mu_X (Lelaki) < \\mu_X (Perempuan)$\" sebagai **hipotesis tandingan ($H_1$)**, yaitu\n",
        "\n",
        "$$\n",
        "\\begin{align*}\n",
        "H_0&: \\mu_X (Lelaki) ≥ \\mu_X (Perempuan)\\\\\n",
        "H_1&: \\mu_X (Lelaki) < \\mu_X (Perempuan)\n",
        "\\end{align*}\n",
        "$$"
      ]
    },
    {
      "cell_type": "markdown",
      "id": "b3a9dac4",
      "metadata": {},
      "source": [
        "# Pilih Tingkat Signifikansi"
      ]
    },
    {
      "cell_type": "code",
      "execution_count": 98,
      "id": "9fefee6e",
      "metadata": {},
      "outputs": [],
      "source": [
        "# variabel alpha menyatakan tingkat signifikansi\n",
        "# artinya 1 - alpha adalah tingkat keyakinan\n",
        "alpha = 0.05"
      ]
    },
    {
      "cell_type": "markdown",
      "id": "06fe7894",
      "metadata": {},
      "source": [
        "## Hitung nilai P-value dari statistik"
      ]
    },
    {
      "cell_type": "code",
      "execution_count": 99,
      "id": "f137473f",
      "metadata": {},
      "outputs": [
        {
          "name": "stdout",
          "output_type": "stream",
          "text": [
            "Statistic\t: 0.652\n",
            "P-Value  \t: 7.427e-01\n"
          ]
        }
      ],
      "source": [
        "alternative_type = 'smaller'\n",
        "\n",
        "z_statistic, pvalue2 = ztest(durasi_lelaki_array, durasi_perempuan_array, alternative=alternative_type)\n",
        "\n",
        "print(f\"Statistic\\t: {z_statistic[0]:.3f}\")\n",
        "print(f\"P-Value  \\t: {pvalue2[0]:.3e}\")"
      ]
    },
    {
      "cell_type": "markdown",
      "id": "c3786be0",
      "metadata": {},
      "source": [
        "## Buat Kesimpulan berdasarkan P-value"
      ]
    },
    {
      "cell_type": "code",
      "execution_count": 100,
      "id": "12e9c7ae",
      "metadata": {},
      "outputs": [
        {
          "name": "stdout",
          "output_type": "stream",
          "text": [
            "Hypothesis Testing Result:\n",
            "-----------------------------\n",
            "\tWith confidence level  95%, it failed to reject the Null Hypothesis.\n"
          ]
        }
      ],
      "source": [
        "def conclude_test(pvalue, alpha):\n",
        "    print(\"Hypothesis Testing Result:\")\n",
        "    print(\"-----------------------------\")\n",
        "    if (pvalue > alpha):\n",
        "        print(f\"\\tWith confidence level {(1-alpha)*100:3.0f}%, it failed to reject the Null Hypothesis.\")\n",
        "    else:\n",
        "        print(f\"\\tWith confidence level {(1-alpha)*100:3.0f}%, it is statistically valid to reject the Null Hypothesis.\")\n",
        "\n",
        "conclude_test(pvalue, alpha)"
      ]
    },
    {
      "cell_type": "markdown",
      "id": "153c62ee",
      "metadata": {},
      "source": [
        "## Terjemahkan ke bahasa sehari-hari\n",
        "\n",
        "**Kesimpulan:**\n",
        "\n",
        "Dengan tingkat keyakinan 95%, uji hipotesis tidak memiliki cukup bukti untuk menyimpulkan bahwa laki-laki makan lebih lama atau setara dengan waktu makan perempuan."
      ]
    },
    {
      "cell_type": "markdown",
      "id": "ba6b8ffb",
      "metadata": {},
      "source": [
        "## Formulasikan Hipotesis 3\n",
        "\n",
        "\n",
        "Misalkan $X$ menyatakan variabel acak dari nilai durasi mahasiswa menghabiskan waktu untuk makan di DH, dalam satuan menit. Untuk menguji apakah pernyataan \"$\\mu_X (Lelaki) = \\mu_X (Perempuan)$\" sahih secara statistika, maka tuliskan pernyataan \"$\\mu_X (Lelaki) ≠ \\mu_X (Perempuan)$\" sebagai **hipotesis tandingan ($H_1$)**, yaitu\n",
        "\n",
        "$$\n",
        "\\begin{align*}\n",
        "H_0&: \\mu_X (Lelaki) = \\mu_X (Perempuan)\\\\\n",
        "H_1&: \\mu_X (Lelaki) ≠ \\mu_X (Perempuan)\n",
        "\\end{align*}\n",
        "$$"
      ]
    },
    {
      "cell_type": "markdown",
      "metadata": {},
      "source": [
        "## Buat Kesimpulan berdasarkan P-value"
      ]
    },
    {
      "cell_type": "markdown",
      "id": "942e0c4b",
      "metadata": {},
      "source": [
        "# Pilih Tingkat Signifikansi"
      ]
    },
    {
      "cell_type": "code",
      "execution_count": 101,
      "id": "c7632632",
      "metadata": {},
      "outputs": [],
      "source": [
        "# variabel alpha menyatakan tingkat signifikansi\n",
        "# artinya 1 - alpha adalah tingkat keyakinan\n",
        "alpha = 0.05"
      ]
    },
    {
      "cell_type": "markdown",
      "id": "ae7786e9",
      "metadata": {},
      "source": [
        "## Hitung nilai P-value dari statistik"
      ]
    },
    {
      "cell_type": "code",
      "execution_count": 102,
      "id": "90bd4e67",
      "metadata": {},
      "outputs": [
        {
          "name": "stdout",
          "output_type": "stream",
          "text": [
            "Statistic\t: 0.652\n",
            "P-Value  \t: 5.146e-01\n"
          ]
        }
      ],
      "source": [
        "alternative_type = 'two-sided'\n",
        "\n",
        "# method akan memberikan 2 return value, yaitu nilai statistic z-score dan nilai p-valuenya\n",
        "statistic , pvalue = ztest(durasi_lelaki_array, durasi_perempuan_array, alternative=alternative_type)\n",
        "print(f\"Statistic\\t: {statistic[0]:.3f}\")\n",
        "print(f\"P-Value  \\t: {pvalue[0]:.3e}\")"
      ]
    },
    {
      "cell_type": "markdown",
      "id": "90d366aa",
      "metadata": {},
      "source": [
        "## Buat Kesimpulan berdasarkan P-value"
      ]
    },
    {
      "cell_type": "code",
      "execution_count": 103,
      "id": "4e11e2ad",
      "metadata": {},
      "outputs": [
        {
          "name": "stdout",
          "output_type": "stream",
          "text": [
            "Hypothesis Testing Result:\n",
            "-----------------------------\n",
            "\tWith confidence level  95%, it failed to reject the Null Hypothesis.\n"
          ]
        }
      ],
      "source": [
        "def conclude_test(pvalue, alpha):\n",
        "    print(\"Hypothesis Testing Result:\")\n",
        "    print(\"-----------------------------\")\n",
        "    if (pvalue > alpha):\n",
        "        print(f\"\\tWith confidence level {(1-alpha)*100:3.0f}%, it failed to reject the Null Hypothesis.\")\n",
        "    else:\n",
        "        print(f\"\\tWith confidence level {(1-alpha)*100:3.0f}%, it is statistically valid to reject the Null Hypothesis.\")\n",
        "\n",
        "conclude_test(pvalue, alpha)"
      ]
    },
    {
      "cell_type": "markdown",
      "id": "e915e35d",
      "metadata": {},
      "source": [
        "## Terjemahkan ke bahasa sehari-hari\n",
        "\n",
        "**Kesimpulan:**\n",
        "\n",
        "Dengan tingkat keyakinan 95%, uji hipotesis tidak memiliki cukup bukti untuk menyimpulkan durasi makan laki-laki sama dengan durasi makan perempuan."
      ]
    },
    {
      "cell_type": "markdown",
      "id": "544cfe77",
      "metadata": {},
      "source": [
        "## Analisis Statistika Inferensial"
      ]
    },
    {
      "cell_type": "markdown",
      "id": "ea5b7680",
      "metadata": {},
      "source": [
        "### 1. Analisis Statistika Inferensial 2 Sisi Rataan Sampel Lelaki"
      ]
    },
    {
      "cell_type": "code",
      "execution_count": 104,
      "id": "c0cef14d",
      "metadata": {},
      "outputs": [
        {
          "name": "stdout",
          "output_type": "stream",
          "text": [
            "Estimasi 2 sisi rataan populasi\n",
            "-------------------------------\n",
            "Total data sampel\t: 65\n",
            "Rata-rata data sampel\t: 19.353846153846153\n",
            "Stdev data sampel\t: 12.523017269750191\n",
            "\n",
            "\n",
            "Tingkat kepercayaan estimasi\t: 0.95\n",
            "Batas bawah interval estimasi\t: 16.30945541458166\n",
            "Batas atas interval estimasi\t: 22.398236893110646\n"
          ]
        }
      ],
      "source": [
        "# menghitung estimasi 2 sisi interval rataan populasi berdasarkan rataan sampel\n",
        "\n",
        "alpha = 0.05\n",
        "# mencari nilai z_alpha_half sehingga P(Z>z_alpha_half) = 1 - alpha/2\n",
        "z_alpha_half = stats.norm.ppf(1-alpha/2, loc=0, scale=1)\n",
        "\n",
        "# menghitung standard error berdasarkan formula estimasi\n",
        "standard_error = z_alpha_half * s_sampel_lelaki / np.sqrt(n_sampel_lelaki)\n",
        "\n",
        "# menghitung batas bawah dan batas atas\n",
        "batas_bawah = x_bar_sampel_lelaki - standard_error\n",
        "batas_atas = x_bar_sampel_lelaki + standard_error\n",
        "\n",
        "print(\"Estimasi 2 sisi rataan populasi\")\n",
        "print(\"-------------------------------\")\n",
        "print(\"Total data sampel\\t: {}\".format(n_sampel_lelaki))\n",
        "print(\"Rata-rata data sampel\\t: {}\".format(x_bar_sampel_lelaki))\n",
        "print(\"Stdev data sampel\\t: {}\".format(s_sampel_lelaki))\n",
        "print(\"\\n\")\n",
        "print(\"Tingkat kepercayaan estimasi\\t: {}\".format(1-alpha))\n",
        "print(\"Batas bawah interval estimasi\\t: {}\".format(batas_bawah))\n",
        "print(\"Batas atas interval estimasi\\t: {}\".format(batas_atas))"
      ]
    },
    {
      "cell_type": "code",
      "execution_count": 105,
      "id": "fb85a480",
      "metadata": {},
      "outputs": [
        {
          "data": {
            "image/png": "[encoded data removed]",
            "text/plain": [
              "<Figure size 800x600 with 1 Axes>"
            ]
          },
          "metadata": {},
          "output_type": "display_data"
        }
      ],
      "source": [
        "# Visualisasi boxplot\n",
        "plt.figure(figsize=(8, 6))\n",
        "plt.boxplot(durasi_lelaki_array, vert=False, patch_artist=True, showfliers=False)\n",
        "\n",
        "plt.axvline(x=batas_bawah, color='r', linestyle='--', label=f'Batas Bawah = {batas_bawah:.2f}')\n",
        "plt.axvline(x=batas_atas, color='g', linestyle='--', label=f'Batas Atas = {batas_atas:.2f}')\n",
        "\n",
        "plt.legend(loc='upper right')\n",
        "plt.title('Interval Hasil Inferensi Statistika Durasi Makan Mahasiswa', fontsize=14)\n",
        "plt.xlabel('Durasi (Menit)', fontsize=12)\n",
        "plt.yticks([])\n",
        "plt.tight_layout()\n",
        "plt.show()"
      ]
    },
    {
      "cell_type": "markdown",
      "id": "7e89ee4a",
      "metadata": {},
      "source": [
        "### 2. Analisis Statistika Inferensial 2 Sisi Rataan Sampel Perempuan"
      ]
    },
    {
      "cell_type": "code",
      "execution_count": 106,
      "id": "e2f42b6f",
      "metadata": {},
      "outputs": [
        {
          "name": "stdout",
          "output_type": "stream",
          "text": [
            "Estimasi 2 sisi rataan populasi\n",
            "-------------------------------\n",
            "Total data sampel\t: 36\n",
            "Rata-rata data sampel\t: 17.86111111111111\n",
            "Stdev data sampel\t: 7.556086582646102\n",
            "\n",
            "\n",
            "Tingkat kepercayaan estimasi\t: 0.95\n",
            "Batas bawah interval estimasi\t: 15.392834850102329\n",
            "Batas atas interval estimasi\t: 20.329387372119893\n"
          ]
        }
      ],
      "source": [
        "# menghitung estimasi 2 sisi interval rataan populasi berdasarkan rataan sampel\n",
        "\n",
        "alpha = 0.05\n",
        "# mencari nilai z_alpha_half sehingga P(Z>z_alpha_half) = 1 - alpha/2\n",
        "z_alpha_half = stats.norm.ppf(1-alpha/2, loc=0, scale=1)\n",
        "\n",
        "# menghitung standard error berdasarkan formula estimasi\n",
        "standard_error = z_alpha_half * s_sampel_perempuan / np.sqrt(n_sampel_perempuan)\n",
        "\n",
        "# menghitung batas bawah dan batas atas\n",
        "batas_bawah = x_bar_sampel_perempuan - standard_error\n",
        "batas_atas = x_bar_sampel_perempuan + standard_error\n",
        "\n",
        "print(\"Estimasi 2 sisi rataan populasi\")\n",
        "print(\"-------------------------------\")\n",
        "print(\"Total data sampel\\t: {}\".format(n_sampel_perempuan))\n",
        "print(\"Rata-rata data sampel\\t: {}\".format(x_bar_sampel_perempuan))\n",
        "print(\"Stdev data sampel\\t: {}\".format(s_sampel_perempuan))\n",
        "print(\"\\n\")\n",
        "print(\"Tingkat kepercayaan estimasi\\t: {}\".format(1-alpha))\n",
        "print(\"Batas bawah interval estimasi\\t: {}\".format(batas_bawah))\n",
        "print(\"Batas atas interval estimasi\\t: {}\".format(batas_atas))"
      ]
    },
    {
      "cell_type": "code",
      "execution_count": 107,
      "id": "55c560f7",
      "metadata": {},
      "outputs": [
        {
          "data": {
            "image/png": "[encoded data removed]",
            "text/plain": [
              "<Figure size 800x600 with 1 Axes>"
            ]
          },
          "metadata": {},
          "output_type": "display_data"
        }
      ],
      "source": [
        "# Visualisasi boxplot\n",
        "plt.figure(figsize=(8, 6))\n",
        "plt.boxplot(durasi_perempuan_array, vert=False, patch_artist=True, showfliers=False)\n",
        "\n",
        "plt.axvline(x=batas_bawah, color='r', linestyle='--', label=f'Batas Bawah = {batas_bawah:.2f}')\n",
        "plt.axvline(x=batas_atas, color='g', linestyle='--', label=f'Batas Atas = {batas_atas:.2f}')\n",
        "\n",
        "plt.legend(loc='upper right')\n",
        "plt.title('Interval Hasil Inferensi Statistika Durasi Makan Mahasiswi', fontsize=14)\n",
        "plt.xlabel('Durasi (Menit)', fontsize=12)\n",
        "plt.yticks([])\n",
        "plt.tight_layout()\n",
        "plt.show()"
      ]
    },
    {
      "cell_type": "markdown",
      "id": "9fe6a18e",
      "metadata": {},
      "source": [
        "### Kesimpulan\n",
        "Dengan tingkat kepercayaan sebesar 95% dan estimasi 2 sisi rataan populasi, batas bawah interval estimasi durasi makan laki-laki adalah 16.31 menit sedangkan perempuan adalah 15.39 menit. Hal tersebut menunjukkan bahwa batas bawah rataan durasi makan antara laki-laki dan perempuan hanya selisih sekitar 1 menit. Untuk batas atas, interval estimasi durasi makan laki-laki adalah 22.40 menit sedangkan perempuan adalah 20.33 menit. Hal tersebut menunjukkan bahwa batas atas rataan durasi makan antara laki-laki dan perempuan hanya selisih sekitar 2 menit. Dapat disimpulkan bahwa secara keseluruhan, perbedaan rata-rata durasi makan tidak melebihi 5 menit, sehingga kebijakan pengaturan shift makan berdasarkan jenis kelamin tidak perlu dipertimbangkan oleh manajemen. "
      ]
    }
  ],
  "metadata": {
    "colab": {
      "provenance": []
    },
    "kernelspec": {
      "display_name": "Python 3 (ipykernel)",
      "language": "python",
      "name": "python3"
    },
    "language_info": {
      "codemirror_mode": {
        "name": "ipython",
        "version": 3
      },
      "file_extension": ".py",
      "mimetype": "text/x-python",
      "name": "python",
      "nbconvert_exporter": "python",
      "pygments_lexer": "ipython3",
      "version": "3.11.2"
    }
  },
  "nbformat": 4,
  "nbformat_minor": 5
}
